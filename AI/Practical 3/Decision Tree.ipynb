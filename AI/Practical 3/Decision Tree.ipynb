{
 "cells": [
  {
   "cell_type": "code",
   "execution_count": 52,
   "id": "a09fe3b4-2971-4760-9433-f18bfb9f0a22",
   "metadata": {
    "scrolled": true
   },
   "outputs": [
    {
     "name": "stdout",
     "output_type": "stream",
     "text": [
      "Dataset Length: 624\n",
      "Dataset :    B  1  1.1  1.2  1.3\n",
      "0  R  1    1    1    2\n",
      "1  R  1    1    1    3\n",
      "2  R  1    1    1    4\n",
      "3  R  1    1    1    5\n",
      "4  R  1    1    2    1\n",
      "Result using entropy:\n",
      "Predict Values:\n",
      "['R' 'L' 'R' 'L' 'L' 'L' 'L' 'L' 'R' 'R' 'R' 'L' 'L' 'R' 'R' 'R' 'L' 'L'\n",
      " 'R' 'R' 'L' 'R' 'R' 'L' 'R' 'R' 'R' 'R' 'R' 'L' 'L' 'L' 'R' 'L' 'R' 'R'\n",
      " 'R' 'L' 'R' 'L' 'L' 'L' 'R' 'L' 'R' 'R' 'R' 'R' 'R' 'L' 'R' 'R' 'R' 'R'\n",
      " 'R' 'R' 'R' 'R' 'L' 'L' 'R' 'L' 'R' 'L' 'L' 'R' 'R' 'R' 'R' 'L' 'R' 'L'\n",
      " 'R' 'L' 'L' 'R' 'L' 'R' 'R' 'R' 'R' 'R' 'L' 'L' 'R' 'R' 'R' 'L' 'R' 'L'\n",
      " 'R' 'R' 'L' 'L' 'R' 'R' 'R' 'L' 'L' 'R' 'L' 'L' 'L' 'R' 'L' 'R' 'R' 'R'\n",
      " 'L' 'L' 'R' 'R' 'R' 'R' 'L' 'R' 'R' 'R' 'R' 'R' 'L' 'L' 'R' 'R' 'L' 'L'\n",
      " 'R' 'L' 'R' 'R' 'L' 'R' 'L' 'L' 'R' 'R' 'R' 'R' 'R' 'R' 'L' 'R' 'R' 'R'\n",
      " 'R' 'L' 'R' 'L' 'L' 'R' 'R' 'R' 'L' 'R' 'L' 'R' 'L' 'R' 'L' 'R' 'R' 'L'\n",
      " 'R' 'L' 'R' 'R' 'R' 'R' 'R' 'R' 'R' 'L' 'R' 'R' 'R' 'L' 'L' 'R' 'R' 'R'\n",
      " 'R' 'R' 'R' 'L' 'R' 'L' 'R' 'R']\n",
      "Accuracy: 66.48936170212765\n"
     ]
    }
   ],
   "source": [
    "import numpy as np\n",
    "import pandas as pd \n",
    "import sklearn as sk\n",
    "from sklearn.metrics import confusion_matrix\n",
    "from sklearn.model_selection import train_test_split\n",
    "from sklearn.tree import DecisionTreeClassifier\n",
    "from sklearn.metrics import accuracy_score\n",
    "from sklearn.metrics import classification_report\n",
    "def importdata():\n",
    "    balance_data=pd.read_csv(\"balance-scale.data\")\n",
    "    print(\"Dataset Length:\",len(balance_data))\n",
    "    print(\"Dataset :\",balance_data.head())   \n",
    "    return balance_data\n",
    "def splitdataset(balance_data):\n",
    "    X=balance_data.values[:,1:5]\n",
    "    Y=balance_data.values[:,0]\n",
    "    X_train,X_test,y_train,y_test=train_test_split(X,Y,test_size=0.3,random_state=100)\n",
    "    return X,Y,X_train,X_test,y_train,y_test\n",
    "def train_using_entropy(X_train,X_test,y_train,y_test):\n",
    "    clf_entropy=DecisionTreeClassifier(criterion=\"entropy\",random_state=100,max_depth=3,min_samples_leaf=5)\n",
    "    clf_entropy.fit(X_train,y_train)\n",
    "    return clf_entropy\n",
    "def prediction(X_test,clf_object):\n",
    "    y_pred=clf_object.predict(X_test)\n",
    "    print(\"Predict Values:\")\n",
    "    print(y_pred)\n",
    "    return y_pred\n",
    "def cal_accuracy(y_test,y_pred):\n",
    "    print(\"Accuracy:\",accuracy_score(y_test,y_pred)*100)\n",
    "def main():\n",
    "    data=importdata()\n",
    "    X,Y,X_train,X_test,y_train,y_test=splitdataset(data)\n",
    "    clf_entropy=train_using_entropy(X_train,X_test,y_train,y_test)\n",
    "    print(\"Result using entropy:\")\n",
    "    y_pred_entropy=prediction(X_test,clf_entropy)\n",
    "    cal_accuracy(y_test,y_pred_entropy)\n",
    "main()\n"
   ]
  },
  {
   "cell_type": "code",
   "execution_count": null,
   "id": "62f84276-a5a5-4ee0-8d84-46fe03980df4",
   "metadata": {},
   "outputs": [],
   "source": []
  },
  {
   "cell_type": "code",
   "execution_count": null,
   "id": "04d07d8b-02a7-4faf-bb45-67ecc73b7395",
   "metadata": {},
   "outputs": [],
   "source": []
  }
 ],
 "metadata": {
  "kernelspec": {
   "display_name": "Python 3 (ipykernel)",
   "language": "python",
   "name": "python3"
  },
  "language_info": {
   "codemirror_mode": {
    "name": "ipython",
    "version": 3
   },
   "file_extension": ".py",
   "mimetype": "text/x-python",
   "name": "python",
   "nbconvert_exporter": "python",
   "pygments_lexer": "ipython3",
   "version": "3.12.4"
  }
 },
 "nbformat": 4,
 "nbformat_minor": 5
}
