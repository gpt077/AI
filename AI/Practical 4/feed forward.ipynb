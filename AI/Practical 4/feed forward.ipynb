{
 "cells": [
  {
   "cell_type": "code",
   "execution_count": 3,
   "id": "19a67e2b-528f-495b-8824-a02abdd990d5",
   "metadata": {},
   "outputs": [
    {
     "name": "stdout",
     "output_type": "stream",
     "text": [
      "Beginning randomly generated weights:\n",
      "[[-0.95290985]\n",
      " [ 0.78403411]\n",
      " [ 0.74351763]]\n",
      "Ending weights after training:\n",
      "[[10.08689574]\n",
      " [-0.20723686]\n",
      " [-4.83715258]]\n"
     ]
    },
    {
     "name": "stdin",
     "output_type": "stream",
     "text": [
      "User input One: 2\n",
      "User input Two: 4\n",
      "User input Three: 2\n"
     ]
    },
    {
     "name": "stdout",
     "output_type": "stream",
     "text": [
      "Considering new situation: 2 4 2\n",
      "new output data:\n",
      "[0.99993689]\n"
     ]
    }
   ],
   "source": [
    "import numpy as np\n",
    "\n",
    "class NeuralNetwork():\n",
    "    def __init__(self):\n",
    "        np.random.seed()\n",
    "        self.synaptic_weights = 2 * np.random.random((3,1)) - 1\n",
    "    def sigmoid(self,x):\n",
    "        return 1 / (1 + np.exp(-x))\n",
    "    def sigmoid_derivative(self,x):\n",
    "        return x * (1 - x)\n",
    "    def train(self,training_inputs,training_outputs,training_iterations):\n",
    "        for iteration in range(training_iterations):\n",
    "            output = self.think(training_inputs)\n",
    "            error = training_outputs-output\n",
    "            adjustments = np.dot(training_inputs.T,error * self.sigmoid_derivative(output))\n",
    "            self.synaptic_weights += adjustments\n",
    "    def think(self,inputs):\n",
    "        input=inputs.astype(float)\n",
    "        output=self.sigmoid(np.dot(input,self.synaptic_weights))\n",
    "        return output\n",
    "\n",
    "if __name__ == \"__main__\":\n",
    "    neural_network = NeuralNetwork()\n",
    "    print(\"Beginning randomly generated weights:\")\n",
    "    print(neural_network.synaptic_weights)\n",
    "    training_inputs = np.array([[0,0,1],[1,1,1],[1,0,1],[0,1,1]])\n",
    "    training_outputs = np.array([[0,1,1,0]]).T\n",
    "    neural_network.train(training_inputs,training_outputs,15000)\n",
    "    print(\"Ending weights after training:\")\n",
    "    print(neural_network.synaptic_weights)\n",
    "    user_input_one = str(input(\"User input One:\"))\n",
    "    user_input_two = str(input(\"User input Two:\"))\n",
    "    user_input_three = str(input(\"User input Three:\"))\n",
    "    print(\"Considering new situation:\",user_input_one,user_input_two,user_input_three)\n",
    "    print(\"new output data:\")\n",
    "    print(neural_network.think(np.array([user_input_one,user_input_two,user_input_three])))"
   ]
  },
  {
   "cell_type": "code",
   "execution_count": null,
   "id": "cca55610-0d33-48fe-932e-0c11fd9d6c71",
   "metadata": {},
   "outputs": [],
   "source": []
  }
 ],
 "metadata": {
  "kernelspec": {
   "display_name": "Python 3 (ipykernel)",
   "language": "python",
   "name": "python3"
  },
  "language_info": {
   "codemirror_mode": {
    "name": "ipython",
    "version": 3
   },
   "file_extension": ".py",
   "mimetype": "text/x-python",
   "name": "python",
   "nbconvert_exporter": "python",
   "pygments_lexer": "ipython3",
   "version": "3.12.4"
  }
 },
 "nbformat": 4,
 "nbformat_minor": 5
}
